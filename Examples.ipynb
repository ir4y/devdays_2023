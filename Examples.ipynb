{
 "cells": [
  {
   "cell_type": "code",
   "execution_count": 1,
   "id": "719076cd",
   "metadata": {},
   "outputs": [],
   "source": [
    "from fhirpy import AsyncFHIRClient\n",
    "from fhirpy.base.searchset import Raw\n",
    "import testscript\n",
    "from fhirpathpy import evaluate,dsl\n",
    "\n",
    "def pp(obj):\n",
    "    print(json.dumps(obj, indent=2, separators=(',', ': ')))"
   ]
  },
  {
   "cell_type": "code",
   "execution_count": 2,
   "id": "fb609075",
   "metadata": {},
   "outputs": [
    {
     "name": "stdout",
     "output_type": "stream",
     "text": [
      "fhirpy\r\n"
     ]
    }
   ],
   "source": [
    "!echo \"fhirpy\""
   ]
  },
  {
   "cell_type": "code",
   "execution_count": 3,
   "id": "2665ebbb",
   "metadata": {},
   "outputs": [],
   "source": [
    "BASE_URL = \"https://fhir-open.cerner.com/r4/ec2458f2-1e24-41c8-b71b-0e701af7583d/\""
   ]
  },
  {
   "cell_type": "code",
   "execution_count": 4,
   "id": "1cdf4f9a",
   "metadata": {},
   "outputs": [],
   "source": [
    "client = AsyncFHIRClient(\n",
    "    BASE_URL,\n",
    ")"
   ]
  },
  {
   "cell_type": "code",
   "execution_count": 5,
   "id": "a12cd852",
   "metadata": {},
   "outputs": [],
   "source": [
    "procedures = await client.resources(\"Procedure\").search(patient=\"12724066\").fetch()"
   ]
  },
  {
   "cell_type": "code",
   "execution_count": 6,
   "id": "cd9ac2b9",
   "metadata": {},
   "outputs": [
    {
     "data": {
      "text/plain": [
       "353"
      ]
     },
     "execution_count": 6,
     "metadata": {},
     "output_type": "execute_result"
    }
   ],
   "source": [
    "len(procedures)"
   ]
  },
  {
   "cell_type": "code",
   "execution_count": 7,
   "id": "1238baaa",
   "metadata": {},
   "outputs": [
    {
     "ename": "ValidationError",
     "evalue": "2 validation errors for Procedure\nstatus\n  field required (type=value_error.missing)\nsubject\n  field required (type=value_error.missing)",
     "output_type": "error",
     "traceback": [
      "\u001b[0;31m---------------------------------------------------------------------------\u001b[0m",
      "\u001b[0;31mValidationError\u001b[0m                           Traceback (most recent call last)",
      "Cell \u001b[0;32mIn[7], line 3\u001b[0m\n\u001b[1;32m      1\u001b[0m \u001b[38;5;28;01mfrom\u001b[39;00m \u001b[38;5;21;01mfhirpydantic\u001b[39;00m \u001b[38;5;28;01mimport\u001b[39;00m Procedure\n\u001b[0;32m----> 3\u001b[0m \u001b[43mProcedure\u001b[49m\u001b[43m(\u001b[49m\u001b[43m)\u001b[49m\n",
      "File \u001b[0;32m~/.local/share/virtualenvs/devdays_2023-tb1nYaS-/lib/python3.11/site-packages/pydantic/main.py:341\u001b[0m, in \u001b[0;36mpydantic.main.BaseModel.__init__\u001b[0;34m()\u001b[0m\n",
      "\u001b[0;31mValidationError\u001b[0m: 2 validation errors for Procedure\nstatus\n  field required (type=value_error.missing)\nsubject\n  field required (type=value_error.missing)"
     ]
    }
   ],
   "source": [
    "from fhirpydantic import Procedure\n",
    "\n",
    "Procedure()"
   ]
  },
  {
   "cell_type": "code",
   "execution_count": null,
   "id": "f48c0a1c",
   "metadata": {},
   "outputs": [],
   "source": [
    "p = Procedure(**procedures[0])\n",
    "p.subject"
   ]
  },
  {
   "cell_type": "code",
   "execution_count": 8,
   "id": "3f518d1f",
   "metadata": {},
   "outputs": [
    {
     "name": "stdout",
     "output_type": "stream",
     "text": [
      "fhirpathpy\r\n"
     ]
    }
   ],
   "source": [
    "!echo \"fhirpathpy\""
   ]
  },
  {
   "cell_type": "code",
   "execution_count": 9,
   "id": "f624ebd1",
   "metadata": {},
   "outputs": [
    {
     "data": {
      "text/plain": [
       "['119954001',\n",
       " '67516001',\n",
       " '223366009',\n",
       " '44950',\n",
       " '99497',\n",
       " '879007',\n",
       " '29325',\n",
       " '707206008',\n",
       " '27865001',\n",
       " '133901003',\n",
       " '33534',\n",
       " '385468004',\n",
       " '180325003',\n",
       " '6668007',\n",
       " '115006',\n",
       " '6555009',\n",
       " '103725003',\n",
       " '1155968006',\n",
       " '6650009',\n",
       " '112969004',\n",
       " '26212005',\n",
       " '404950004',\n",
       " '176003',\n",
       " '11671000']"
      ]
     },
     "execution_count": 9,
     "metadata": {},
     "output_type": "execute_result"
    }
   ],
   "source": [
    "evaluate(procedures, 'Procedure.code.coding.code.distinct()')"
   ]
  },
  {
   "cell_type": "code",
   "execution_count": 10,
   "id": "a70c3191",
   "metadata": {},
   "outputs": [
    {
     "data": {
      "text/plain": [
       "'Procedure.code.coding.code.distinct()'"
      ]
     },
     "execution_count": 10,
     "metadata": {},
     "output_type": "execute_result"
    }
   ],
   "source": [
    "str(dsl.Procedure.code.coding.code.distinct())"
   ]
  },
  {
   "cell_type": "code",
   "execution_count": 11,
   "id": "0a2c4973",
   "metadata": {},
   "outputs": [
    {
     "data": {
      "text/plain": [
       "['119954001',\n",
       " '67516001',\n",
       " '223366009',\n",
       " '44950',\n",
       " '99497',\n",
       " '879007',\n",
       " '29325',\n",
       " '707206008',\n",
       " '27865001',\n",
       " '133901003',\n",
       " '33534',\n",
       " '385468004',\n",
       " '180325003',\n",
       " '6668007',\n",
       " '115006',\n",
       " '6555009',\n",
       " '103725003',\n",
       " '1155968006',\n",
       " '6650009',\n",
       " '112969004',\n",
       " '26212005',\n",
       " '404950004',\n",
       " '176003',\n",
       " '11671000']"
      ]
     },
     "execution_count": 11,
     "metadata": {},
     "output_type": "execute_result"
    }
   ],
   "source": [
    "from fhirpathpy import dsl, evaluate\n",
    "evaluate(procedures, str(dsl.Procedure.code.coding.code.distinct()))"
   ]
  },
  {
   "cell_type": "code",
   "execution_count": 12,
   "id": "3054ab21",
   "metadata": {},
   "outputs": [
    {
     "name": "stdout",
     "output_type": "stream",
     "text": [
      "testscript-eval\r\n"
     ]
    }
   ],
   "source": [
    "!echo testscript-eval"
   ]
  },
  {
   "cell_type": "code",
   "execution_count": 13,
   "id": "da9f81a8",
   "metadata": {},
   "outputs": [],
   "source": [
    "env = {\n",
    "    \"baseUrl\": 'http://localhost:8080',\n",
    "    \"authorization\": 'Basic cm9vdDpzZWNyZXQ=',\n",
    "}"
   ]
  },
  {
   "cell_type": "code",
   "execution_count": 14,
   "id": "8a389e30",
   "metadata": {},
   "outputs": [],
   "source": [
    "import yaml\n",
    "spec = yaml.safe_load(open(\"testscript-vitals-questionnaire.yaml\").read())\n"
   ]
  },
  {
   "cell_type": "code",
   "execution_count": 15,
   "id": "8318af65",
   "metadata": {},
   "outputs": [
    {
     "name": "stderr",
     "output_type": "stream",
     "text": [
      "WARNING:root:Test vitals-questionnaire-sdc-tests\n",
      "WARNING:root:Loading fixtures\n",
      "WARNING:root:Loading variables\n",
      "WARNING:root:Setup\n",
      "WARNING:root:Create test patient with ID = test-patient\n",
      "WARNING:root:Confirm that the returned HTTP status is 201(created).\n",
      "WARNING:root:Testing\n",
      "WARNING:root:Test vitals-populate, Run SDC $populate against the vitals questionnaire and check populated fields\n",
      "\n",
      "WARNING:root:Questionnaire population\n",
      "WARNING:root:check populated patient ID\n",
      "WARNING:root:check populated patient name\n",
      "WARNING:root:Test vitals-extract, Run SDC $extract against the vitals questionnaire and check created resources\n",
      "\n",
      "WARNING:root:Questionnaire data extract\n",
      "WARNING:root:Confirm that the extract returned HTTP status is 200(OK).\n",
      "WARNING:root:Get observations created during the extract\n",
      "WARNING:root:Check the total number of returned observations\n",
      "WARNING:root:Check body height observation (LOINC code is 8302-2) has correct value\n",
      "WARNING:root:Check body weight observation (LOINC code is 29463-7) has correct value\n",
      "WARNING:root:Check BMI observation (LOINC code is 39156-5) has correct value\n",
      "WARNING:root:Check blood pressure (LOINC code is 85354-9) has correct value for systolic (8480-6)\n",
      "WARNING:root:Check blood pressure (LOINC code is 85354-9) has correct value for systolic (8480-6)\n",
      "WARNING:root:Check the patient with ID 'test-patient' is the subject for all created observations\n",
      "WARNING:root:Teardown\n",
      "WARNING:root:Delete the patient resource on the test server using the id from launched-patient fixture.\n",
      "WARNING:root:Delete patient observations on the test server via AidboxQuery\n"
     ]
    }
   ],
   "source": [
    "await testscript.eval(spec, env)"
   ]
  }
 ],
 "metadata": {
  "kernelspec": {
   "display_name": "Python 3 (ipykernel)",
   "language": "python",
   "name": "python3"
  },
  "language_info": {
   "codemirror_mode": {
    "name": "ipython",
    "version": 3
   },
   "file_extension": ".py",
   "mimetype": "text/x-python",
   "name": "python",
   "nbconvert_exporter": "python",
   "pygments_lexer": "ipython3",
   "version": "3.11.3"
  }
 },
 "nbformat": 4,
 "nbformat_minor": 5
}
